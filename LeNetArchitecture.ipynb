{
  "nbformat": 4,
  "nbformat_minor": 0,
  "metadata": {
    "colab": {
      "provenance": [],
      "authorship_tag": "ABX9TyMTq1msN15voGcygFrkZwmo",
      "include_colab_link": true
    },
    "kernelspec": {
      "name": "python3",
      "display_name": "Python 3"
    },
    "language_info": {
      "name": "python"
    }
  },
  "cells": [
    {
      "cell_type": "markdown",
      "metadata": {
        "id": "view-in-github",
        "colab_type": "text"
      },
      "source": [
        "<a href=\"https://colab.research.google.com/github/mac-raj/LeNetArchitecture/blob/main/LeNetArchitecture.ipynb\" target=\"_parent\"><img src=\"https://colab.research.google.com/assets/colab-badge.svg\" alt=\"Open In Colab\"/></a>"
      ]
    },
    {
      "cell_type": "markdown",
      "source": [
        "# Import Data"
      ],
      "metadata": {
        "id": "ihHbqB3o7ebb"
      }
    },
    {
      "cell_type": "code",
      "execution_count": 1,
      "metadata": {
        "id": "hVoVU7VybNdY"
      },
      "outputs": [],
      "source": [
        "import keras \n",
        "\n",
        "# import mnist data from keras \n",
        "from keras.datasets import mnist\n",
        "\n",
        "# import layers \n",
        "from keras.layers import Conv2D, MaxPooling2D\n",
        "from keras.layers import Dense,Flatten\n",
        "\n",
        "# import sequential model\n",
        "from keras.models import Sequential"
      ]
    },
    {
      "cell_type": "markdown",
      "source": [
        "**Loading Data**"
      ],
      "metadata": {
        "id": "W6IujZ-08CL5"
      }
    },
    {
      "cell_type": "code",
      "source": [
        "(X_train,y_train),(X_test,y_test) = mnist.load_data()"
      ],
      "metadata": {
        "id": "xurZHg677cNa"
      },
      "execution_count": 2,
      "outputs": []
    },
    {
      "cell_type": "markdown",
      "source": [
        "# Data Preprocessing "
      ],
      "metadata": {
        "id": "Ehgh79678NGG"
      }
    },
    {
      "cell_type": "code",
      "source": [
        "X_train"
      ],
      "metadata": {
        "colab": {
          "base_uri": "https://localhost:8080/"
        },
        "id": "BZRw-qZy8Ayi",
        "outputId": "0727abdf-e64e-428b-f43c-da5e49631d3a"
      },
      "execution_count": 3,
      "outputs": [
        {
          "output_type": "execute_result",
          "data": {
            "text/plain": [
              "array([[[0, 0, 0, ..., 0, 0, 0],\n",
              "        [0, 0, 0, ..., 0, 0, 0],\n",
              "        [0, 0, 0, ..., 0, 0, 0],\n",
              "        ...,\n",
              "        [0, 0, 0, ..., 0, 0, 0],\n",
              "        [0, 0, 0, ..., 0, 0, 0],\n",
              "        [0, 0, 0, ..., 0, 0, 0]],\n",
              "\n",
              "       [[0, 0, 0, ..., 0, 0, 0],\n",
              "        [0, 0, 0, ..., 0, 0, 0],\n",
              "        [0, 0, 0, ..., 0, 0, 0],\n",
              "        ...,\n",
              "        [0, 0, 0, ..., 0, 0, 0],\n",
              "        [0, 0, 0, ..., 0, 0, 0],\n",
              "        [0, 0, 0, ..., 0, 0, 0]],\n",
              "\n",
              "       [[0, 0, 0, ..., 0, 0, 0],\n",
              "        [0, 0, 0, ..., 0, 0, 0],\n",
              "        [0, 0, 0, ..., 0, 0, 0],\n",
              "        ...,\n",
              "        [0, 0, 0, ..., 0, 0, 0],\n",
              "        [0, 0, 0, ..., 0, 0, 0],\n",
              "        [0, 0, 0, ..., 0, 0, 0]],\n",
              "\n",
              "       ...,\n",
              "\n",
              "       [[0, 0, 0, ..., 0, 0, 0],\n",
              "        [0, 0, 0, ..., 0, 0, 0],\n",
              "        [0, 0, 0, ..., 0, 0, 0],\n",
              "        ...,\n",
              "        [0, 0, 0, ..., 0, 0, 0],\n",
              "        [0, 0, 0, ..., 0, 0, 0],\n",
              "        [0, 0, 0, ..., 0, 0, 0]],\n",
              "\n",
              "       [[0, 0, 0, ..., 0, 0, 0],\n",
              "        [0, 0, 0, ..., 0, 0, 0],\n",
              "        [0, 0, 0, ..., 0, 0, 0],\n",
              "        ...,\n",
              "        [0, 0, 0, ..., 0, 0, 0],\n",
              "        [0, 0, 0, ..., 0, 0, 0],\n",
              "        [0, 0, 0, ..., 0, 0, 0]],\n",
              "\n",
              "       [[0, 0, 0, ..., 0, 0, 0],\n",
              "        [0, 0, 0, ..., 0, 0, 0],\n",
              "        [0, 0, 0, ..., 0, 0, 0],\n",
              "        ...,\n",
              "        [0, 0, 0, ..., 0, 0, 0],\n",
              "        [0, 0, 0, ..., 0, 0, 0],\n",
              "        [0, 0, 0, ..., 0, 0, 0]]], dtype=uint8)"
            ]
          },
          "metadata": {},
          "execution_count": 3
        }
      ]
    },
    {
      "cell_type": "code",
      "source": [
        "y_train"
      ],
      "metadata": {
        "colab": {
          "base_uri": "https://localhost:8080/"
        },
        "id": "t2ztqQnI-Cry",
        "outputId": "e94772ae-598b-4a4f-f98f-167572851949"
      },
      "execution_count": 4,
      "outputs": [
        {
          "output_type": "execute_result",
          "data": {
            "text/plain": [
              "array([5, 0, 4, ..., 5, 6, 8], dtype=uint8)"
            ]
          },
          "metadata": {},
          "execution_count": 4
        }
      ]
    },
    {
      "cell_type": "code",
      "source": [
        "X_train.shape"
      ],
      "metadata": {
        "colab": {
          "base_uri": "https://localhost:8080/"
        },
        "id": "TOFPnE-__gBW",
        "outputId": "94533521-36b0-4e8e-da5e-2dcd176e375b"
      },
      "execution_count": 5,
      "outputs": [
        {
          "output_type": "execute_result",
          "data": {
            "text/plain": [
              "(60000, 28, 28)"
            ]
          },
          "metadata": {},
          "execution_count": 5
        }
      ]
    },
    {
      "cell_type": "markdown",
      "source": [
        "**Reshape**"
      ],
      "metadata": {
        "id": "HoS9g1sv-nvw"
      }
    },
    {
      "cell_type": "code",
      "source": [
        "# Peforming reshaping operation\n",
        "X_train = X_train.reshape(X_train.shape[0], 28, 28, 1)\n",
        "X_test = X_test.reshape(X_test.shape[0], 28, 28, 1)"
      ],
      "metadata": {
        "id": "ixHOFTND-l8y"
      },
      "execution_count": 6,
      "outputs": []
    },
    {
      "cell_type": "code",
      "source": [
        "X_train"
      ],
      "metadata": {
        "colab": {
          "base_uri": "https://localhost:8080/"
        },
        "id": "kciY-SR2_Xhj",
        "outputId": "9d4f7114-bc51-446b-b365-1871c13a8ec7"
      },
      "execution_count": 7,
      "outputs": [
        {
          "output_type": "execute_result",
          "data": {
            "text/plain": [
              "array([[[[0],\n",
              "         [0],\n",
              "         [0],\n",
              "         ...,\n",
              "         [0],\n",
              "         [0],\n",
              "         [0]],\n",
              "\n",
              "        [[0],\n",
              "         [0],\n",
              "         [0],\n",
              "         ...,\n",
              "         [0],\n",
              "         [0],\n",
              "         [0]],\n",
              "\n",
              "        [[0],\n",
              "         [0],\n",
              "         [0],\n",
              "         ...,\n",
              "         [0],\n",
              "         [0],\n",
              "         [0]],\n",
              "\n",
              "        ...,\n",
              "\n",
              "        [[0],\n",
              "         [0],\n",
              "         [0],\n",
              "         ...,\n",
              "         [0],\n",
              "         [0],\n",
              "         [0]],\n",
              "\n",
              "        [[0],\n",
              "         [0],\n",
              "         [0],\n",
              "         ...,\n",
              "         [0],\n",
              "         [0],\n",
              "         [0]],\n",
              "\n",
              "        [[0],\n",
              "         [0],\n",
              "         [0],\n",
              "         ...,\n",
              "         [0],\n",
              "         [0],\n",
              "         [0]]],\n",
              "\n",
              "\n",
              "       [[[0],\n",
              "         [0],\n",
              "         [0],\n",
              "         ...,\n",
              "         [0],\n",
              "         [0],\n",
              "         [0]],\n",
              "\n",
              "        [[0],\n",
              "         [0],\n",
              "         [0],\n",
              "         ...,\n",
              "         [0],\n",
              "         [0],\n",
              "         [0]],\n",
              "\n",
              "        [[0],\n",
              "         [0],\n",
              "         [0],\n",
              "         ...,\n",
              "         [0],\n",
              "         [0],\n",
              "         [0]],\n",
              "\n",
              "        ...,\n",
              "\n",
              "        [[0],\n",
              "         [0],\n",
              "         [0],\n",
              "         ...,\n",
              "         [0],\n",
              "         [0],\n",
              "         [0]],\n",
              "\n",
              "        [[0],\n",
              "         [0],\n",
              "         [0],\n",
              "         ...,\n",
              "         [0],\n",
              "         [0],\n",
              "         [0]],\n",
              "\n",
              "        [[0],\n",
              "         [0],\n",
              "         [0],\n",
              "         ...,\n",
              "         [0],\n",
              "         [0],\n",
              "         [0]]],\n",
              "\n",
              "\n",
              "       [[[0],\n",
              "         [0],\n",
              "         [0],\n",
              "         ...,\n",
              "         [0],\n",
              "         [0],\n",
              "         [0]],\n",
              "\n",
              "        [[0],\n",
              "         [0],\n",
              "         [0],\n",
              "         ...,\n",
              "         [0],\n",
              "         [0],\n",
              "         [0]],\n",
              "\n",
              "        [[0],\n",
              "         [0],\n",
              "         [0],\n",
              "         ...,\n",
              "         [0],\n",
              "         [0],\n",
              "         [0]],\n",
              "\n",
              "        ...,\n",
              "\n",
              "        [[0],\n",
              "         [0],\n",
              "         [0],\n",
              "         ...,\n",
              "         [0],\n",
              "         [0],\n",
              "         [0]],\n",
              "\n",
              "        [[0],\n",
              "         [0],\n",
              "         [0],\n",
              "         ...,\n",
              "         [0],\n",
              "         [0],\n",
              "         [0]],\n",
              "\n",
              "        [[0],\n",
              "         [0],\n",
              "         [0],\n",
              "         ...,\n",
              "         [0],\n",
              "         [0],\n",
              "         [0]]],\n",
              "\n",
              "\n",
              "       ...,\n",
              "\n",
              "\n",
              "       [[[0],\n",
              "         [0],\n",
              "         [0],\n",
              "         ...,\n",
              "         [0],\n",
              "         [0],\n",
              "         [0]],\n",
              "\n",
              "        [[0],\n",
              "         [0],\n",
              "         [0],\n",
              "         ...,\n",
              "         [0],\n",
              "         [0],\n",
              "         [0]],\n",
              "\n",
              "        [[0],\n",
              "         [0],\n",
              "         [0],\n",
              "         ...,\n",
              "         [0],\n",
              "         [0],\n",
              "         [0]],\n",
              "\n",
              "        ...,\n",
              "\n",
              "        [[0],\n",
              "         [0],\n",
              "         [0],\n",
              "         ...,\n",
              "         [0],\n",
              "         [0],\n",
              "         [0]],\n",
              "\n",
              "        [[0],\n",
              "         [0],\n",
              "         [0],\n",
              "         ...,\n",
              "         [0],\n",
              "         [0],\n",
              "         [0]],\n",
              "\n",
              "        [[0],\n",
              "         [0],\n",
              "         [0],\n",
              "         ...,\n",
              "         [0],\n",
              "         [0],\n",
              "         [0]]],\n",
              "\n",
              "\n",
              "       [[[0],\n",
              "         [0],\n",
              "         [0],\n",
              "         ...,\n",
              "         [0],\n",
              "         [0],\n",
              "         [0]],\n",
              "\n",
              "        [[0],\n",
              "         [0],\n",
              "         [0],\n",
              "         ...,\n",
              "         [0],\n",
              "         [0],\n",
              "         [0]],\n",
              "\n",
              "        [[0],\n",
              "         [0],\n",
              "         [0],\n",
              "         ...,\n",
              "         [0],\n",
              "         [0],\n",
              "         [0]],\n",
              "\n",
              "        ...,\n",
              "\n",
              "        [[0],\n",
              "         [0],\n",
              "         [0],\n",
              "         ...,\n",
              "         [0],\n",
              "         [0],\n",
              "         [0]],\n",
              "\n",
              "        [[0],\n",
              "         [0],\n",
              "         [0],\n",
              "         ...,\n",
              "         [0],\n",
              "         [0],\n",
              "         [0]],\n",
              "\n",
              "        [[0],\n",
              "         [0],\n",
              "         [0],\n",
              "         ...,\n",
              "         [0],\n",
              "         [0],\n",
              "         [0]]],\n",
              "\n",
              "\n",
              "       [[[0],\n",
              "         [0],\n",
              "         [0],\n",
              "         ...,\n",
              "         [0],\n",
              "         [0],\n",
              "         [0]],\n",
              "\n",
              "        [[0],\n",
              "         [0],\n",
              "         [0],\n",
              "         ...,\n",
              "         [0],\n",
              "         [0],\n",
              "         [0]],\n",
              "\n",
              "        [[0],\n",
              "         [0],\n",
              "         [0],\n",
              "         ...,\n",
              "         [0],\n",
              "         [0],\n",
              "         [0]],\n",
              "\n",
              "        ...,\n",
              "\n",
              "        [[0],\n",
              "         [0],\n",
              "         [0],\n",
              "         ...,\n",
              "         [0],\n",
              "         [0],\n",
              "         [0]],\n",
              "\n",
              "        [[0],\n",
              "         [0],\n",
              "         [0],\n",
              "         ...,\n",
              "         [0],\n",
              "         [0],\n",
              "         [0]],\n",
              "\n",
              "        [[0],\n",
              "         [0],\n",
              "         [0],\n",
              "         ...,\n",
              "         [0],\n",
              "         [0],\n",
              "         [0]]]], dtype=uint8)"
            ]
          },
          "metadata": {},
          "execution_count": 7
        }
      ]
    },
    {
      "cell_type": "code",
      "source": [
        "X_train.shape"
      ],
      "metadata": {
        "colab": {
          "base_uri": "https://localhost:8080/"
        },
        "id": "CU3iBL29_kPq",
        "outputId": "ea207a41-1131-4238-d42a-4d7c29fb3ef3"
      },
      "execution_count": 8,
      "outputs": [
        {
          "output_type": "execute_result",
          "data": {
            "text/plain": [
              "(60000, 28, 28, 1)"
            ]
          },
          "metadata": {},
          "execution_count": 8
        }
      ]
    },
    {
      "cell_type": "markdown",
      "source": [
        "**Normalization**"
      ],
      "metadata": {
        "id": "dL0pZtI486KF"
      }
    },
    {
      "cell_type": "code",
      "source": [
        "X_train = X_train / 255\n",
        "X_test = X_test / 255"
      ],
      "metadata": {
        "id": "qXrv7THc-lbe"
      },
      "execution_count": 9,
      "outputs": []
    },
    {
      "cell_type": "markdown",
      "source": [
        "**Label Encoding**"
      ],
      "metadata": {
        "id": "HhlF-HAK9r5F"
      }
    },
    {
      "cell_type": "code",
      "source": [
        "y_train = keras.utils.to_categorical(y_train, num_classes=10)\n",
        "y_test = keras.utils.to_categorical(y_test, num_classes=10)"
      ],
      "metadata": {
        "id": "oF_sk7S09qai"
      },
      "execution_count": 10,
      "outputs": []
    },
    {
      "cell_type": "markdown",
      "source": [
        "# LeNet Model Architecture"
      ],
      "metadata": {
        "id": "RQytglvGAlfG"
      }
    },
    {
      "cell_type": "code",
      "source": [
        "model = Sequential()\n",
        "\n",
        "model.add(Conv2D(6, kernel_size=(5,5), activation='relu', input_shape=(28,28,1)))\n",
        "\n",
        "model.add(MaxPooling2D(pool_size=(2,2)))\n",
        "\n",
        "model.add(Conv2D(16, kernel_size=(5,5), activation='relu', input_shape =(10,10,1)))\n",
        "\n",
        "model.add(MaxPooling2D(pool_size=(2,2)))\n",
        "\n",
        "model.add(Flatten())\n",
        "\n",
        "model.add(Dense(120, activation='relu'))\n",
        "\n",
        "model.add(Dense(84, activation='relu'))\n",
        "\n",
        "model.add(Dense(10, activation='softmax'))"
      ],
      "metadata": {
        "id": "2hYc9F-NAWM5"
      },
      "execution_count": 14,
      "outputs": []
    },
    {
      "cell_type": "code",
      "source": [
        "model.compile(loss=keras.metrics.categorical_crossentropy, optimizer=keras.optimizers.Adam(), metrics=['accuracy'])"
      ],
      "metadata": {
        "id": "iwpsYU_4A-aA"
      },
      "execution_count": 15,
      "outputs": []
    },
    {
      "cell_type": "code",
      "source": [
        "model.fit(X_train, y_train, batch_size=128, epochs=20, verbose=1, validation_data=(X_test, y_test))"
      ],
      "metadata": {
        "id": "HAOzg609M66a",
        "outputId": "adb7b37d-55ac-4e5a-e55c-85244221fa96",
        "colab": {
          "base_uri": "https://localhost:8080/"
        }
      },
      "execution_count": 18,
      "outputs": [
        {
          "output_type": "stream",
          "name": "stdout",
          "text": [
            "Epoch 1/20\n",
            "469/469 [==============================] - 28s 58ms/step - loss: 0.3226 - accuracy: 0.9081 - val_loss: 0.1009 - val_accuracy: 0.9700\n",
            "Epoch 2/20\n",
            "469/469 [==============================] - 27s 57ms/step - loss: 0.0927 - accuracy: 0.9716 - val_loss: 0.0632 - val_accuracy: 0.9807\n",
            "Epoch 3/20\n",
            "469/469 [==============================] - 26s 55ms/step - loss: 0.0669 - accuracy: 0.9793 - val_loss: 0.0462 - val_accuracy: 0.9848\n",
            "Epoch 4/20\n",
            "469/469 [==============================] - 26s 55ms/step - loss: 0.0543 - accuracy: 0.9829 - val_loss: 0.0481 - val_accuracy: 0.9845\n",
            "Epoch 5/20\n",
            "469/469 [==============================] - 27s 57ms/step - loss: 0.0439 - accuracy: 0.9861 - val_loss: 0.0354 - val_accuracy: 0.9891\n",
            "Epoch 6/20\n",
            "469/469 [==============================] - 26s 56ms/step - loss: 0.0389 - accuracy: 0.9877 - val_loss: 0.0401 - val_accuracy: 0.9886\n",
            "Epoch 7/20\n",
            "469/469 [==============================] - 26s 55ms/step - loss: 0.0336 - accuracy: 0.9894 - val_loss: 0.0402 - val_accuracy: 0.9866\n",
            "Epoch 8/20\n",
            "469/469 [==============================] - 25s 54ms/step - loss: 0.0298 - accuracy: 0.9904 - val_loss: 0.0336 - val_accuracy: 0.9896\n",
            "Epoch 9/20\n",
            "469/469 [==============================] - 26s 55ms/step - loss: 0.0269 - accuracy: 0.9910 - val_loss: 0.0406 - val_accuracy: 0.9874\n",
            "Epoch 10/20\n",
            "469/469 [==============================] - 26s 56ms/step - loss: 0.0229 - accuracy: 0.9926 - val_loss: 0.0380 - val_accuracy: 0.9878\n",
            "Epoch 11/20\n",
            "469/469 [==============================] - 25s 54ms/step - loss: 0.0201 - accuracy: 0.9931 - val_loss: 0.0465 - val_accuracy: 0.9854\n",
            "Epoch 12/20\n",
            "469/469 [==============================] - 26s 55ms/step - loss: 0.0196 - accuracy: 0.9933 - val_loss: 0.0403 - val_accuracy: 0.9869\n",
            "Epoch 13/20\n",
            "469/469 [==============================] - 26s 55ms/step - loss: 0.0172 - accuracy: 0.9941 - val_loss: 0.0371 - val_accuracy: 0.9890\n",
            "Epoch 14/20\n",
            "469/469 [==============================] - 26s 55ms/step - loss: 0.0148 - accuracy: 0.9948 - val_loss: 0.0420 - val_accuracy: 0.9878\n",
            "Epoch 15/20\n",
            "469/469 [==============================] - 26s 56ms/step - loss: 0.0126 - accuracy: 0.9959 - val_loss: 0.0356 - val_accuracy: 0.9900\n",
            "Epoch 16/20\n",
            "469/469 [==============================] - 26s 55ms/step - loss: 0.0122 - accuracy: 0.9960 - val_loss: 0.0454 - val_accuracy: 0.9876\n",
            "Epoch 17/20\n",
            "469/469 [==============================] - 26s 55ms/step - loss: 0.0108 - accuracy: 0.9966 - val_loss: 0.0418 - val_accuracy: 0.9894\n",
            "Epoch 18/20\n",
            "469/469 [==============================] - 25s 54ms/step - loss: 0.0095 - accuracy: 0.9970 - val_loss: 0.0369 - val_accuracy: 0.9888\n",
            "Epoch 19/20\n",
            "469/469 [==============================] - 26s 55ms/step - loss: 0.0105 - accuracy: 0.9965 - val_loss: 0.0412 - val_accuracy: 0.9881\n",
            "Epoch 20/20\n",
            "469/469 [==============================] - 25s 54ms/step - loss: 0.0081 - accuracy: 0.9972 - val_loss: 0.0555 - val_accuracy: 0.9865\n"
          ]
        },
        {
          "output_type": "execute_result",
          "data": {
            "text/plain": [
              "<keras.callbacks.History at 0x7f24200599a0>"
            ]
          },
          "metadata": {},
          "execution_count": 18
        }
      ]
    },
    {
      "cell_type": "code",
      "source": [
        "score = model.evaluate(X_test, y_test)\n",
        "print('Test Loss:', score[0])\n",
        "print('Test accuracy:', score[1])"
      ],
      "metadata": {
        "id": "a1Ae7xwJN1lG",
        "outputId": "ea71aa13-8f0e-4ae7-a798-ba21651ec069",
        "colab": {
          "base_uri": "https://localhost:8080/"
        }
      },
      "execution_count": 19,
      "outputs": [
        {
          "output_type": "stream",
          "name": "stdout",
          "text": [
            "313/313 [==============================] - 3s 8ms/step - loss: 0.0555 - accuracy: 0.9865\n",
            "Test Loss: 0.05549049749970436\n",
            "Test accuracy: 0.9865000247955322\n"
          ]
        }
      ]
    }
  ]
}